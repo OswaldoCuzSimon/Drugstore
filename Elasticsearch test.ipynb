{
 "cells": [
  {
   "cell_type": "code",
   "execution_count": null,
   "metadata": {},
   "outputs": [],
   "source": [
    "from elasticsearch import helpers\n",
    "from elasticsearch import Elasticsearch\n",
    "from datetime import datetime\n",
    "import json\n",
    "from elasticsearch_reader import ElasticsearchReader as esr\n",
    "from elasticsearch_creator import ElasticsearchCreator as esc"
   ]
  },
  {
   "cell_type": "code",
   "execution_count": null,
   "metadata": {},
   "outputs": [],
   "source": []
  },
  {
   "cell_type": "code",
   "execution_count": null,
   "metadata": {},
   "outputs": [],
   "source": [
    "with open(\"test_data.json\",\"r\") as file:\n",
    "    _actions = json.loads(file.read())\n",
    "result_list = esc.bulk_load(_actions)\n",
    "bulk_result = esc.process_result(result_list)\n",
    "bulk_result"
   ]
  },
  {
   "cell_type": "code",
   "execution_count": null,
   "metadata": {},
   "outputs": [],
   "source": [
    "esr.get_last_id('inventory',\"document\")"
   ]
  },
  {
   "cell_type": "code",
   "execution_count": null,
   "metadata": {},
   "outputs": [],
   "source": []
  },
  {
   "cell_type": "code",
   "execution_count": null,
   "metadata": {},
   "outputs": [],
   "source": []
  },
  {
   "cell_type": "code",
   "execution_count": null,
   "metadata": {},
   "outputs": [],
   "source": []
  },
  {
   "cell_type": "code",
   "execution_count": null,
   "metadata": {},
   "outputs": [],
   "source": [
    "%%bash\n",
    "curl -X GET \"localhost:9200/_search?pretty\" -H 'Content-Type: application/json' -d'\n",
    "{\n",
    "    \"query\": {\n",
    "        \"function_score\": {\n",
    "            \"query\": {\n",
    "                \"match\": { \"message\": \"elasticsearch\" }\n",
    "            },\n",
    "            \"script_score\" : {\n",
    "                \"script\" : {\n",
    "                  \"source\": \"Math.log(2 + doc[\\u0027likes\\u0027].value)\"\n",
    "                }\n",
    "            }\n",
    "        }\n",
    "    }\n",
    "}'"
   ]
  },
  {
   "cell_type": "code",
   "execution_count": null,
   "metadata": {},
   "outputs": [],
   "source": [
    "%%bash\n",
    "curl -X GET \"localhost:9200/_search?pretty\" -H 'Content-Type: application/json' -d'\n",
    "{\n",
    "    \"query\": {\n",
    "        \"match\" : {\n",
    "            \"message\" : \"elasticsearch\"\n",
    "        }\n",
    "    }\n",
    "}'"
   ]
  },
  {
   "cell_type": "code",
   "execution_count": null,
   "metadata": {},
   "outputs": [],
   "source": [
    "%%bash\n",
    "curl -X GET \"localhost:9200/_search?pretty\" -H 'Content-Type: application/json' -d'\n",
    "{\n",
    "    \"query\": {\n",
    "        \"match_phrase\" : {\n",
    "            \"message\" : \"elasticsearch\"\n",
    "        }\n",
    "    }\n",
    "}'"
   ]
  },
  {
   "cell_type": "code",
   "execution_count": null,
   "metadata": {},
   "outputs": [],
   "source": [
    "%%bash\n",
    "curl -XDELETE 'localhost:9200/my_index?pretty'\n",
    "curl -X PUT \"localhost:9200/my_index\" -H 'Content-Type: application/json' -d'\n",
    "{\n",
    "  \"mappings\": {\n",
    "    \"_doc\": {\n",
    "      \"properties\": {\n",
    "        \"location\": {\n",
    "          \"type\": \"geo_point\"\n",
    "        }\n",
    "      }\n",
    "    }\n",
    "  }\n",
    "}'"
   ]
  },
  {
   "cell_type": "code",
   "execution_count": null,
   "metadata": {},
   "outputs": [],
   "source": [
    "%%bash\n",
    "curl -X PUT \"localhost:9200/my_index/_doc/1?pretty\" -H 'Content-Type: application/json' -d'\n",
    "{\n",
    "  \"text\": \"Geo-point as an object\",\n",
    "  \"location\": { \n",
    "    \"lat\":19.438664,\n",
    "    \"lon\": -99.183666\n",
    "  }\n",
    "}'\n",
    "curl -X PUT \"localhost:9200/my_index/_doc/2?pretty\" -H 'Content-Type: application/json' -d'\n",
    "{\n",
    "  \"text\": \"Geo-point as an object\",\n",
    "  \"location\": { \n",
    "    \"lat\": 19.444501,\n",
    "    \"lon\": -99.183022\n",
    "  }\n",
    "}'\n",
    "curl -X PUT \"localhost:9200/my_index/_doc/3?pretty\" -H 'Content-Type: application/json' -d'\n",
    "{\n",
    "  \"text\": \"Geo-point as an object\",\n",
    "  \"location\": { \n",
    "    \"lat\": 19.439716,\n",
    "    \"lon\": -99.183752\n",
    "  }\n",
    "}'"
   ]
  },
  {
   "cell_type": "code",
   "execution_count": null,
   "metadata": {},
   "outputs": [],
   "source": []
  },
  {
   "cell_type": "code",
   "execution_count": null,
   "metadata": {},
   "outputs": [],
   "source": []
  },
  {
   "cell_type": "code",
   "execution_count": null,
   "metadata": {},
   "outputs": [],
   "source": [
    "%%bash\n",
    "#-99.1879761219,19.4359329685,-99.1779339314,19.4419628533\n",
    "curl -X GET \"localhost:9200/_search?pretty\" -H 'Content-Type: application/json' -d'\n",
    "{\n",
    "    \"query\": {\n",
    "        \"bool\" : {\n",
    "            \"must\" : {\n",
    "                \"match_all\" : {}\n",
    "            },\n",
    "            \"filter\" : {\n",
    "                \"geo_bounding_box\" : {\n",
    "                    \"location\" : {\n",
    "                        \"top_left\" : {\n",
    "                            \"lat\" : 19.4419628533,\n",
    "                            \"lon\" : -99.1879761219\n",
    "                        },\n",
    "                        \"bottom_right\" : {\n",
    "                            \"lat\" : 19.4359329685,\n",
    "                            \"lon\" : -99.1779339314\n",
    "                        }\n",
    "                    }\n",
    "                }\n",
    "            }\n",
    "        }\n",
    "    }\n",
    "}'"
   ]
  },
  {
   "cell_type": "code",
   "execution_count": null,
   "metadata": {},
   "outputs": [],
   "source": []
  }
 ],
 "metadata": {
  "kernelspec": {
   "display_name": "Python 3",
   "language": "python",
   "name": "python3"
  },
  "language_info": {
   "codemirror_mode": {
    "name": "ipython",
    "version": 3
   },
   "file_extension": ".py",
   "mimetype": "text/x-python",
   "name": "python",
   "nbconvert_exporter": "python",
   "pygments_lexer": "ipython3",
   "version": "3.6.5"
  }
 },
 "nbformat": 4,
 "nbformat_minor": 2
}
