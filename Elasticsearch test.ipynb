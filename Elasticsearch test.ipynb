{
 "cells": [
  {
   "cell_type": "code",
   "execution_count": null,
   "metadata": {},
   "outputs": [],
   "source": [
    "from elasticsearch import helpers\n",
    "from elasticsearch import Elasticsearch\n",
    "from datetime import datetime\n",
    "import json\n",
    "from elasticsearch_reader import ElasticsearchReader as esr\n",
    "from elasticsearch_creator import ElasticsearchCreator as esc"
   ]
  },
  {
   "cell_type": "code",
   "execution_count": null,
   "metadata": {},
   "outputs": [],
   "source": []
  },
  {
   "cell_type": "code",
   "execution_count": null,
   "metadata": {},
   "outputs": [],
   "source": [
    "with open(\"test_data.json\",\"r\") as file:\n",
    "    _actions = json.loads(file.read())\n",
    "result_list = list(esc.bulk_load(_actions))\n",
    "bulk_result = esc.process_result(result_list)\n",
    "bulk_result"
   ]
  },
  {
   "cell_type": "code",
   "execution_count": null,
   "metadata": {},
   "outputs": [],
   "source": [
    "esr.get_last_id('inventory',\"document\")"
   ]
  },
  {
   "cell_type": "code",
   "execution_count": null,
   "metadata": {},
   "outputs": [],
   "source": []
  },
  {
   "cell_type": "code",
   "execution_count": null,
   "metadata": {},
   "outputs": [],
   "source": []
  },
  {
   "cell_type": "code",
   "execution_count": null,
   "metadata": {},
   "outputs": [],
   "source": []
  },
  {
   "cell_type": "code",
   "execution_count": null,
   "metadata": {},
   "outputs": [],
   "source": [
    "%%bash\n",
    "curl -X GET \"localhost:9200/_search?pretty\" -H 'Content-Type: application/json' -d'\n",
    "{\n",
    "    \"query\": {\n",
    "        \"function_score\": {\n",
    "            \"query\": {\n",
    "                \"match\": { \"message\": \"elasticsearch\" }\n",
    "            },\n",
    "            \"script_score\" : {\n",
    "                \"script\" : {\n",
    "                  \"source\": \"Math.log(2 + doc[\\u0027likes\\u0027].value)\"\n",
    "                }\n",
    "            }\n",
    "        }\n",
    "    }\n",
    "}'"
   ]
  },
  {
   "cell_type": "code",
   "execution_count": null,
   "metadata": {},
   "outputs": [],
   "source": [
    "%%bash\n",
    "curl -X GET \"localhost:9200/_search?pretty\" -H 'Content-Type: application/json' -d'\n",
    "{\n",
    "    \"query\": {\n",
    "        \"match\" : {\n",
    "            \"message\" : \"elasticsearch\"\n",
    "        }\n",
    "    }\n",
    "}'"
   ]
  },
  {
   "cell_type": "code",
   "execution_count": null,
   "metadata": {},
   "outputs": [],
   "source": [
    "%%bash\n",
    "curl -X GET \"localhost:9200/_search?pretty\" -H 'Content-Type: application/json' -d'\n",
    "{\n",
    "    \"query\": {\n",
    "        \"match_phrase\" : {\n",
    "            \"message\" : \"elasticsearch\"\n",
    "        }\n",
    "    }\n",
    "}'"
   ]
  },
  {
   "cell_type": "code",
   "execution_count": null,
   "metadata": {},
   "outputs": [],
   "source": [
    "def get_last_id(index, doctype):\n",
    "    \"\"\"Get the last ID for autoincremental ID generation\"\"\"\n",
    "    _query = {\n",
    "        \"size\": 1,\n",
    "        \"sort\": {\"created_at\": \"desc\"},\n",
    "        \"query\": {\n",
    "            \"match_all\": {}\n",
    "        }\n",
    "    }\n",
    "    _filter_path = 'hits.hits._id'\n",
    "    try:\n",
    "        result = es.search(\n",
    "            index=index,\n",
    "            doc_type=doctype,\n",
    "            body=_query,\n",
    "            filter_path=_filter_path)\n",
    "        return int(result['hits']['hits'][0]['_id'])\n",
    "    except ConnectionError as error:\n",
    "        return 0\n",
    "get_last_id('inventory', 'document')"
   ]
  },
  {
   "cell_type": "code",
   "execution_count": null,
   "metadata": {},
   "outputs": [],
   "source": []
  }
 ],
 "metadata": {
  "kernelspec": {
   "display_name": "Python 3",
   "language": "python",
   "name": "python3"
  },
  "language_info": {
   "codemirror_mode": {
    "name": "ipython",
    "version": 3
   },
   "file_extension": ".py",
   "mimetype": "text/x-python",
   "name": "python",
   "nbconvert_exporter": "python",
   "pygments_lexer": "ipython3",
   "version": "3.6.5"
  }
 },
 "nbformat": 4,
 "nbformat_minor": 2
}
