{
 "cells": [
  {
   "cell_type": "code",
   "execution_count": null,
   "metadata": {},
   "outputs": [],
   "source": [
    "from elasticsearch import helpers\n",
    "from elasticsearch import Elasticsearch\n",
    "import json\n",
    "es = Elasticsearch()"
   ]
  },
  {
   "cell_type": "code",
   "execution_count": null,
   "metadata": {},
   "outputs": [],
   "source": [
    "def bulk_load(actions_):\n",
    "    \"\"\"Performs the bulk load to Elasticsearch\n",
    "    \"\"\"\n",
    "    res = None\n",
    "    try:\n",
    "        res = helpers.parallel_bulk(es, actions_)\n",
    "    except Exception as e:\n",
    "        print(\"There was an error\")\n",
    "        print(e)\n",
    "    return res\n",
    "def process_result(result_list):\n",
    "    success, fail = 0, 0\n",
    "    for i in result_list:\n",
    "        if i[0]:\n",
    "            success = success + 1\n",
    "        else:\n",
    "            fail = fail + 1\n",
    "    return success, fail"
   ]
  },
  {
   "cell_type": "code",
   "execution_count": null,
   "metadata": {},
   "outputs": [],
   "source": [
    "with open(\"test_data.json\",\"r\") as file:\n",
    "    _actions = json.loads(file.read())"
   ]
  },
  {
   "cell_type": "code",
   "execution_count": null,
   "metadata": {},
   "outputs": [],
   "source": []
  },
  {
   "cell_type": "code",
   "execution_count": null,
   "metadata": {},
   "outputs": [],
   "source": [
    "result_list = list(bulk_load(_actions))\n",
    "bulk_result = process_result(result_list)"
   ]
  },
  {
   "cell_type": "code",
   "execution_count": null,
   "metadata": {},
   "outputs": [],
   "source": [
    "result_list"
   ]
  },
  {
   "cell_type": "code",
   "execution_count": null,
   "metadata": {},
   "outputs": [],
   "source": [
    "bulk_result"
   ]
  },
  {
   "cell_type": "code",
   "execution_count": null,
   "metadata": {},
   "outputs": [],
   "source": [
    "%%bash\n",
    "curl -X GET \"localhost:9200/_search?pretty\" -H 'Content-Type: application/json' -d'\n",
    "{\n",
    "    \"query\": {\n",
    "        \"function_score\": {\n",
    "            \"query\": {\n",
    "                \"match\": { \"message\": \"elasticsearch\" }\n",
    "            },\n",
    "            \"script_score\" : {\n",
    "                \"script\" : {\n",
    "                  \"source\": \"Math.log(2 + doc[\\u0027likes\\u0027].value)\"\n",
    "                }\n",
    "            }\n",
    "        }\n",
    "    }\n",
    "}'"
   ]
  },
  {
   "cell_type": "code",
   "execution_count": null,
   "metadata": {},
   "outputs": [],
   "source": [
    "%%bash\n",
    "curl -X GET \"localhost:9200/_search?pretty\" -H 'Content-Type: application/json' -d'\n",
    "{\n",
    "    \"query\": {\n",
    "        \"match\" : {\n",
    "            \"message\" : \"elasticsearch\"\n",
    "        }\n",
    "    }\n",
    "}'"
   ]
  },
  {
   "cell_type": "code",
   "execution_count": null,
   "metadata": {},
   "outputs": [],
   "source": [
    "%%bash\n",
    "curl -X GET \"localhost:9200/_search?pretty\" -H 'Content-Type: application/json' -d'\n",
    "{\n",
    "    \"query\": {\n",
    "        \"match_phrase\" : {\n",
    "            \"message\" : \"elasticsearch\"\n",
    "        }\n",
    "    }\n",
    "}'"
   ]
  },
  {
   "cell_type": "code",
   "execution_count": null,
   "metadata": {},
   "outputs": [],
   "source": []
  }
 ],
 "metadata": {
  "kernelspec": {
   "display_name": "Python 3",
   "language": "python",
   "name": "python3"
  },
  "language_info": {
   "codemirror_mode": {
    "name": "ipython",
    "version": 3
   },
   "file_extension": ".py",
   "mimetype": "text/x-python",
   "name": "python",
   "nbconvert_exporter": "python",
   "pygments_lexer": "ipython3",
   "version": "3.6.5"
  }
 },
 "nbformat": 4,
 "nbformat_minor": 2
}
