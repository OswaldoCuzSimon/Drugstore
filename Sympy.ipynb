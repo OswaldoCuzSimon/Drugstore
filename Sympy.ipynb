{
 "cells": [
  {
   "cell_type": "code",
   "execution_count": null,
   "metadata": {},
   "outputs": [],
   "source": [
    "from sympy import Point, Polygon, pi\n",
    "import json\n",
    "class TextProcessor(object):\n",
    "    def getPolygon(self, vertices):\n",
    "        p1, p2, p3, p4 = tuple((i['x'],i['y']) for i in vertices)\n",
    "        return Polygon(p1, p2, p3, p4)"
   ]
  },
  {
   "cell_type": "code",
   "execution_count": null,
   "metadata": {},
   "outputs": [],
   "source": [
    "with open('vision_api_example_response.json','r') as file:\n",
    "    response = json.loads(file.read())\n",
    "textAnnotations = response[\"responses\"][0][\"textAnnotations\"]"
   ]
  },
  {
   "cell_type": "code",
   "execution_count": null,
   "metadata": {},
   "outputs": [],
   "source": []
  },
  {
   "cell_type": "code",
   "execution_count": null,
   "metadata": {},
   "outputs": [],
   "source": [
    "vertices = [i['boundingPoly']['vertices'] for i in textAnnotations]\n",
    "len(vertices)\n"
   ]
  },
  {
   "cell_type": "code",
   "execution_count": null,
   "metadata": {},
   "outputs": [],
   "source": [
    "#tabletas_text.perimeter"
   ]
  },
  {
   "cell_type": "code",
   "execution_count": null,
   "metadata": {},
   "outputs": [],
   "source": [
    "tp = TextProcessor()\n",
    "polygons = [tp.getPolygon(v) for v in vertices]\n",
    "perimeters = [p.perimeter.evalf() for p in polygons]\n",
    "perimeters"
   ]
  },
  {
   "cell_type": "code",
   "execution_count": null,
   "metadata": {},
   "outputs": [],
   "source": []
  },
  {
   "cell_type": "code",
   "execution_count": null,
   "metadata": {},
   "outputs": [],
   "source": []
  },
  {
   "cell_type": "code",
   "execution_count": null,
   "metadata": {},
   "outputs": [],
   "source": [
    "for i,phrase in enumerate(textAnnotations):\n",
    "    polygons[i].label = phrase['description']"
   ]
  },
  {
   "cell_type": "code",
   "execution_count": null,
   "metadata": {},
   "outputs": [],
   "source": [
    "[i.label for i in sorted(polygons,reverse=True, key=lambda p: p.perimeter)]"
   ]
  },
  {
   "cell_type": "code",
   "execution_count": null,
   "metadata": {},
   "outputs": [],
   "source": [
    "polygons[0].sides"
   ]
  },
  {
   "cell_type": "code",
   "execution_count": null,
   "metadata": {},
   "outputs": [],
   "source": [
    "all_text = polygons[0].label.strip().split('\\n')\n",
    "all_text"
   ]
  },
  {
   "cell_type": "code",
   "execution_count": null,
   "metadata": {},
   "outputs": [],
   "source": [
    "def find_polygon(polygons,phrase):\n",
    "    poly_phrase = []\n",
    "    polygon_indeces = []\n",
    "    for word in phrase.split(\" \"):\n",
    "        for i,p in enumerate(polygons):\n",
    "            if p.label == word:\n",
    "                poly_phrase.append(p)\n",
    "                polygon_indeces.append(i)\n",
    "                break\n",
    "    for i in sorted(polygon_indeces, reverse=True):\n",
    "        del polygons[i]\n",
    "        \n",
    "    return polygons, poly_phrase\n",
    "copy = polygons[:]\n",
    "poly_phrase = []\n",
    "for phrase in all_text:\n",
    "    copy, _ = find_polygon(copy, phrase)\n",
    "    poly_phrase.append(_)"
   ]
  },
  {
   "cell_type": "code",
   "execution_count": null,
   "metadata": {},
   "outputs": [],
   "source": [
    "a = [1, 2, 3, 5]\n",
    "b = a[:]\n",
    "b[3] = 4\n",
    "print(a)\n",
    "print(b)"
   ]
  },
  {
   "cell_type": "code",
   "execution_count": null,
   "metadata": {},
   "outputs": [],
   "source": [
    "sorted([3, 4,7,1],reverse=True)"
   ]
  },
  {
   "cell_type": "code",
   "execution_count": null,
   "metadata": {},
   "outputs": [],
   "source": []
  }
 ],
 "metadata": {
  "kernelspec": {
   "display_name": "Python 3",
   "language": "python",
   "name": "python3"
  },
  "language_info": {
   "codemirror_mode": {
    "name": "ipython",
    "version": 3
   },
   "file_extension": ".py",
   "mimetype": "text/x-python",
   "name": "python",
   "nbconvert_exporter": "python",
   "pygments_lexer": "ipython3",
   "version": "3.6.5"
  }
 },
 "nbformat": 4,
 "nbformat_minor": 2
}
