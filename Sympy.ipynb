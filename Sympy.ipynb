{
 "cells": [
  {
   "cell_type": "code",
   "execution_count": null,
   "metadata": {},
   "outputs": [],
   "source": [
    "from sympy import Point, Polygon, pi\n",
    "import json\n",
    "class TextProcessor(object):\n",
    "    def getPolygon(self, vertices):\n",
    "        p1, p2, p3, p4 = tuple((i['x'],i['y']) for i in vertices)\n",
    "        return Polygon(p1, p2, p3, p4)\n",
    "    \n",
    "    def get_polygons(self, vertices):\n",
    "        polygons = [self.getPolygon(v) for v in vertices]\n",
    "        for i,phrase in enumerate(textAnnotations):\n",
    "            polygons[i].label = phrase['description']\n",
    "        return polygons\n",
    "    \n",
    "    def get_phrases(self, vertices):\n",
    "        polygons = self.get_polygons(vertices)\n",
    "        all_text = polygons[0].label.strip().split('\\n')\n",
    "        copy = polygons[:]\n",
    "        poly_phrase = []\n",
    "        for phrase in all_text:\n",
    "            copy, _ = tp.find_polygon(copy, phrase)\n",
    "            if _:\n",
    "                poly_phrase.append(_)\n",
    "        area_phrase = tp.calc_area_by_phrase(poly_phrase)\n",
    "        weight_phrase = [((ap[0]/len(ap[1])).evalf(),ap[1]) for ap in area_phrase]\n",
    "        weight_phrase = sorted(weight_phrase,reverse=True,key=lambda wp: wp[0])\n",
    "        return [i[1] for i in weight_phrase]\n",
    "    \n",
    "    @staticmethod\n",
    "    def find_polygon(polygons,phrase):\n",
    "        poly_phrase = []\n",
    "        polygon_indeces = []\n",
    "        for word in phrase.split(\" \"):\n",
    "            for i,p in enumerate(polygons):\n",
    "                if p.label == word:\n",
    "                    poly_phrase.append(p)\n",
    "                    polygon_indeces.append(i)\n",
    "                    break\n",
    "        for i in sorted(polygon_indeces, reverse=True):\n",
    "            del polygons[i]\n",
    "\n",
    "        return polygons, poly_phrase\n",
    "    \n",
    "    @staticmethod\n",
    "    def calc_area_by_phrase(poly_phrase):\n",
    "        area_phrase = []\n",
    "        for pp in poly_phrase:\n",
    "            area = sum([p.area for p in pp])\n",
    "            phrase = \" \".join([p.label for p in pp])\n",
    "            area_phrase.append((area,phrase))\n",
    "        return area_phrase"
   ]
  },
  {
   "cell_type": "code",
   "execution_count": null,
   "metadata": {},
   "outputs": [],
   "source": [
    "with open('vision_api_example_response.json','r') as file:\n",
    "    response = json.loads(file.read())\n",
    "textAnnotations = response[\"responses\"][0][\"textAnnotations\"]"
   ]
  },
  {
   "cell_type": "code",
   "execution_count": null,
   "metadata": {},
   "outputs": [],
   "source": [
    "vertices = [i['boundingPoly']['vertices'] for i in textAnnotations]\n",
    "tp = TextProcessor()\n",
    "phrases = tp.get_phrases(vertices)\n",
    "phrases"
   ]
  },
  {
   "cell_type": "code",
   "execution_count": null,
   "metadata": {},
   "outputs": [],
   "source": []
  },
  {
   "cell_type": "code",
   "execution_count": null,
   "metadata": {},
   "outputs": [],
   "source": []
  },
  {
   "cell_type": "code",
   "execution_count": null,
   "metadata": {},
   "outputs": [],
   "source": []
  },
  {
   "cell_type": "code",
   "execution_count": null,
   "metadata": {},
   "outputs": [],
   "source": []
  },
  {
   "cell_type": "code",
   "execution_count": null,
   "metadata": {},
   "outputs": [],
   "source": []
  },
  {
   "cell_type": "code",
   "execution_count": null,
   "metadata": {},
   "outputs": [],
   "source": []
  },
  {
   "cell_type": "code",
   "execution_count": null,
   "metadata": {},
   "outputs": [],
   "source": []
  },
  {
   "cell_type": "code",
   "execution_count": null,
   "metadata": {},
   "outputs": [],
   "source": []
  },
  {
   "cell_type": "code",
   "execution_count": null,
   "metadata": {},
   "outputs": [],
   "source": []
  },
  {
   "cell_type": "code",
   "execution_count": null,
   "metadata": {},
   "outputs": [],
   "source": []
  },
  {
   "cell_type": "code",
   "execution_count": null,
   "metadata": {},
   "outputs": [],
   "source": []
  },
  {
   "cell_type": "code",
   "execution_count": null,
   "metadata": {},
   "outputs": [],
   "source": []
  },
  {
   "cell_type": "code",
   "execution_count": null,
   "metadata": {},
   "outputs": [],
   "source": []
  },
  {
   "cell_type": "code",
   "execution_count": null,
   "metadata": {},
   "outputs": [],
   "source": []
  },
  {
   "cell_type": "code",
   "execution_count": null,
   "metadata": {},
   "outputs": [],
   "source": []
  },
  {
   "cell_type": "code",
   "execution_count": null,
   "metadata": {},
   "outputs": [],
   "source": []
  }
 ],
 "metadata": {
  "kernelspec": {
   "display_name": "Python 3",
   "language": "python",
   "name": "python3"
  },
  "language_info": {
   "codemirror_mode": {
    "name": "ipython",
    "version": 3
   },
   "file_extension": ".py",
   "mimetype": "text/x-python",
   "name": "python",
   "nbconvert_exporter": "python",
   "pygments_lexer": "ipython3",
   "version": "3.6.5"
  }
 },
 "nbformat": 4,
 "nbformat_minor": 2
}
