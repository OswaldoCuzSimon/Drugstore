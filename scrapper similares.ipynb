{
 "cells": [
  {
   "cell_type": "code",
   "execution_count": 1,
   "metadata": {},
   "outputs": [],
   "source": [
    "import requests\n",
    "import time\n",
    "from bs4 import BeautifulSoup\n",
    "from selenium import webdriver\n",
    "from selenium.webdriver.support.ui import WebDriverWait\n",
    "from selenium.webdriver.support import expected_conditions as EC\n",
    "from selenium.webdriver.common.by import By\n",
    "from selenium.common.exceptions import TimeoutException\n",
    "\n",
    "def get_products_in_page(page):\n",
    "    list_prod = page.findAll(attrs= {\"vocab\":\"http://schema.org/\",\"class\": \"row\", \"typeof\": \"Product\"})\n",
    "    list_prod = list_prod[0].findAll('div', attrs={'class':'row'})\n",
    "    prods=[]\n",
    "    for i in list_prod:\n",
    "        url_image = i.findAll('img')[0]['src'].replace('ch/C','gr/G')\n",
    "        title = i.findAll('img')[0]['alt']\n",
    "        price = float(i.findAll('h2',attrs={\"property\": \"price\"})[0].text.strip(\"$ \"))\n",
    "        prods.append({\"title\":title,\"url_image\": url_image,\"proce\":price})\n",
    "    return prods\n",
    "\n",
    "def get_products_with_delay(brower, max_delay):\n",
    "    for i in range(max_delay):\n",
    "        page = BeautifulSoup(browser.page_source,\"html5lib\")\n",
    "        products = get_products_in_page(page)\n",
    "        if products:\n",
    "            break\n",
    "        time.sleep(1)\n",
    "    return products"
   ]
  },
  {
   "cell_type": "code",
   "execution_count": 2,
   "metadata": {},
   "outputs": [],
   "source": [
    "catalog_url = 'https://www.farmaciasdesimilares.com/#!/medicamentos'\n",
    "browser = webdriver.Chrome('./chromedriver')\n",
    "browser.get(catalog_url)\n",
    "browser.implicitly_wait(10)"
   ]
  },
  {
   "cell_type": "raw",
   "metadata": {},
   "source": [
    "NO_IMAGE = 'https://farmaciasdesimilares.com/ui/productos/ch/noImage_C.jpg'\n"
   ]
  },
  {
   "cell_type": "code",
   "execution_count": 9,
   "metadata": {},
   "outputs": [
    {
     "name": "stdout",
     "output_type": "stream",
     "text": [
      "1\n",
      "2\n",
      "3\n",
      "4\n",
      "5\n",
      "6\n",
      "7\n"
     ]
    }
   ],
   "source": [
    "for i in range(1,82):\n",
    "    products = get_products_with_delay(brower, 5)\n",
    "    print(\"scrappend page: {}\".format(i))"
   ]
  },
  {
   "cell_type": "code",
   "execution_count": 4,
   "metadata": {},
   "outputs": [],
   "source": [
    "#browser.find_element_by_xpath('//*[@id=\"contenido\"]/div/div[4]/div[1]/div/div[1]/dir-pagination-controls/ul/li[3]/a').click()\n",
    "browser.find_element_by_xpath('//*[@id=\"contenido\"]/div/div[4]/div[1]/div/div[1]/dir-pagination-controls/ul/li[9]/a').click()\n",
    "time.sleep(2)\n",
    "browser.find_element_by_xpath('//*[@id=\"contenido\"]/div/div[4]/div[1]/div/div[1]/dir-pagination-controls/ul/li[9]/a').click()"
   ]
  },
  {
   "cell_type": "code",
   "execution_count": 5,
   "metadata": {},
   "outputs": [],
   "source": [
    "page = BeautifulSoup(browser.page_source,\"html5lib\")\n",
    "products = get_products_in_page(page)"
   ]
  },
  {
   "cell_type": "code",
   "execution_count": 10,
   "metadata": {},
   "outputs": [
    {
     "data": {
      "text/plain": [
       "[{'title': 'LORATADINA / BETAMETASONA TABLETAS',\n",
       "  'url_image': 'https://farmaciasdesimilares.com/ui/productos/gr/G_1187_1.jpg',\n",
       "  'proce': 42.0},\n",
       " {'title': 'IBUPROFENO TABLETAS',\n",
       "  'url_image': 'https://farmaciasdesimilares.com/ui/productos/gr/G_119_1.jpg',\n",
       "  'proce': 22.0},\n",
       " {'title': 'LEVODROPROPIZINA SOLUCION',\n",
       "  'url_image': 'https://farmaciasdesimilares.com/ui/productos/gr/G_1194.jpg',\n",
       "  'proce': 63.0},\n",
       " {'title': 'LATANOPROST SOLUCION OFTALMICA',\n",
       "  'url_image': 'https://farmaciasdesimilares.com/ui/productos/gr/G_1195.jpg',\n",
       "  'proce': 99.0},\n",
       " {'title': 'RANITIDINA JARABE',\n",
       "  'url_image': 'https://farmaciasdesimilares.com/ui/productos/gr/G_1196.jpg',\n",
       "  'proce': 80.0},\n",
       " {'title': 'TIBOLONA TABLETAS',\n",
       "  'url_image': 'https://farmaciasdesimilares.com/ui/productos/gr/G_1197.jpg',\n",
       "  'proce': 149.0},\n",
       " {'title': 'ALBENDAZOL TABLETAS',\n",
       "  'url_image': 'https://farmaciasdesimilares.com/ui/productos/gr/G_12.jpg',\n",
       "  'proce': 10.0},\n",
       " {'title': 'ISOSORBIDA TABLETAS',\n",
       "  'url_image': 'https://farmaciasdesimilares.com/ui/productos/gr/G_120.jpg',\n",
       "  'proce': 9.0},\n",
       " {'title': 'ITRACONAZOL CAPSULAS',\n",
       "  'url_image': 'https://farmaciasdesimilares.com/ui/productos/gr/G_121.jpg',\n",
       "  'proce': 100.0}]"
      ]
     },
     "execution_count": 10,
     "metadata": {},
     "output_type": "execute_result"
    }
   ],
   "source": [
    "products"
   ]
  },
  {
   "cell_type": "code",
   "execution_count": 12,
   "metadata": {},
   "outputs": [],
   "source": [
    "def get_actions_id_auto_increment(data_list, index, doctype):\n",
    "    return [{\n",
    "        \"_index\": index,\n",
    "        \"_id\": _id,\n",
    "        \"_type\": doctype,\n",
    "        \"_source\": i\n",
    "    } for i in data_list]"
   ]
  },
  {
   "cell_type": "code",
   "execution_count": 13,
   "metadata": {},
   "outputs": [
    {
     "ename": "NameError",
     "evalue": "name '_id' is not defined",
     "output_type": "error",
     "traceback": [
      "\u001b[0;31m---------------------------------------------------------------------------\u001b[0m",
      "\u001b[0;31mNameError\u001b[0m                                 Traceback (most recent call last)",
      "\u001b[0;32m<ipython-input-13-ae4d80eba673>\u001b[0m in \u001b[0;36m<module>\u001b[0;34m()\u001b[0m\n\u001b[0;32m----> 1\u001b[0;31m \u001b[0mget_actions_id_auto_increment\u001b[0m\u001b[0;34m(\u001b[0m\u001b[0mproducts\u001b[0m\u001b[0;34m,\u001b[0m \u001b[0;34m'drugstore'\u001b[0m\u001b[0;34m,\u001b[0m \u001b[0;34m'document'\u001b[0m\u001b[0;34m)\u001b[0m\u001b[0;34m\u001b[0m\u001b[0m\n\u001b[0m",
      "\u001b[0;32m<ipython-input-12-05382478c94e>\u001b[0m in \u001b[0;36mget_actions_id_auto_increment\u001b[0;34m(data_list, index, doctype)\u001b[0m\n\u001b[1;32m      5\u001b[0m         \u001b[0;34m\"_type\"\u001b[0m\u001b[0;34m:\u001b[0m \u001b[0mdoctype\u001b[0m\u001b[0;34m,\u001b[0m\u001b[0;34m\u001b[0m\u001b[0m\n\u001b[1;32m      6\u001b[0m         \u001b[0;34m\"_source\"\u001b[0m\u001b[0;34m:\u001b[0m \u001b[0mi\u001b[0m\u001b[0;34m\u001b[0m\u001b[0m\n\u001b[0;32m----> 7\u001b[0;31m     } for i in data_list]\n\u001b[0m",
      "\u001b[0;32m<ipython-input-12-05382478c94e>\u001b[0m in \u001b[0;36m<listcomp>\u001b[0;34m(.0)\u001b[0m\n\u001b[1;32m      5\u001b[0m         \u001b[0;34m\"_type\"\u001b[0m\u001b[0;34m:\u001b[0m \u001b[0mdoctype\u001b[0m\u001b[0;34m,\u001b[0m\u001b[0;34m\u001b[0m\u001b[0m\n\u001b[1;32m      6\u001b[0m         \u001b[0;34m\"_source\"\u001b[0m\u001b[0;34m:\u001b[0m \u001b[0mi\u001b[0m\u001b[0;34m\u001b[0m\u001b[0m\n\u001b[0;32m----> 7\u001b[0;31m     } for i in data_list]\n\u001b[0m",
      "\u001b[0;31mNameError\u001b[0m: name '_id' is not defined"
     ]
    }
   ],
   "source": [
    "get_actions_id_auto_increment(products, 'drugstore', 'document')"
   ]
  },
  {
   "cell_type": "code",
   "execution_count": null,
   "metadata": {},
   "outputs": [],
   "source": [
    "def generate_ids(df):\n",
    "    def increase():\n",
    "        increase.i += 1\n",
    "        return increase.i\n",
    "\n",
    "    increase.i = DataQuality().get_last_id()\n",
    "    df['id'] = df['id'].apply(lambda _: increase())\n",
    "    return df"
   ]
  },
  {
   "cell_type": "code",
   "execution_count": 14,
   "metadata": {},
   "outputs": [],
   "source": []
  },
  {
   "cell_type": "code",
   "execution_count": 15,
   "metadata": {},
   "outputs": [
    {
     "ename": "NameError",
     "evalue": "name 'es' is not defined",
     "output_type": "error",
     "traceback": [
      "\u001b[0;31m---------------------------------------------------------------------------\u001b[0m",
      "\u001b[0;31mNameError\u001b[0m                                 Traceback (most recent call last)",
      "\u001b[0;32m<ipython-input-15-c46d5232d933>\u001b[0m in \u001b[0;36m<module>\u001b[0;34m()\u001b[0m\n\u001b[0;32m----> 1\u001b[0;31m \u001b[0mget_last_id\u001b[0m\u001b[0;34m(\u001b[0m\u001b[0;34m'drugstore'\u001b[0m\u001b[0;34m,\u001b[0m \u001b[0;34m'document'\u001b[0m\u001b[0;34m)\u001b[0m\u001b[0;34m\u001b[0m\u001b[0m\n\u001b[0m",
      "\u001b[0;32m<ipython-input-14-a657ab3c1bbc>\u001b[0m in \u001b[0;36mget_last_id\u001b[0;34m(index, doctype)\u001b[0m\n\u001b[1;32m     10\u001b[0m     \u001b[0m_filter_path\u001b[0m \u001b[0;34m=\u001b[0m \u001b[0;34m'hits.hits._id'\u001b[0m\u001b[0;34m\u001b[0m\u001b[0m\n\u001b[1;32m     11\u001b[0m     \u001b[0;32mtry\u001b[0m\u001b[0;34m:\u001b[0m\u001b[0;34m\u001b[0m\u001b[0m\n\u001b[0;32m---> 12\u001b[0;31m         result = es.search(\n\u001b[0m\u001b[1;32m     13\u001b[0m             \u001b[0mindex\u001b[0m\u001b[0;34m=\u001b[0m\u001b[0mindex\u001b[0m\u001b[0;34m,\u001b[0m\u001b[0;34m\u001b[0m\u001b[0m\n\u001b[1;32m     14\u001b[0m             \u001b[0mdoc_type\u001b[0m\u001b[0;34m=\u001b[0m\u001b[0mdoctype\u001b[0m\u001b[0;34m,\u001b[0m\u001b[0;34m\u001b[0m\u001b[0m\n",
      "\u001b[0;31mNameError\u001b[0m: name 'es' is not defined"
     ]
    }
   ],
   "source": []
  },
  {
   "cell_type": "code",
   "execution_count": null,
   "metadata": {},
   "outputs": [],
   "source": []
  }
 ],
 "metadata": {
  "kernelspec": {
   "display_name": "Python 3",
   "language": "python",
   "name": "python3"
  },
  "language_info": {
   "codemirror_mode": {
    "name": "ipython",
    "version": 3
   },
   "file_extension": ".py",
   "mimetype": "text/x-python",
   "name": "python",
   "nbconvert_exporter": "python",
   "pygments_lexer": "ipython3",
   "version": "3.6.5"
  }
 },
 "nbformat": 4,
 "nbformat_minor": 2
}
