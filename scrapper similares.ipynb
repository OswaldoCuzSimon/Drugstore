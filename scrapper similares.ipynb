{
 "cells": [
  {
   "cell_type": "code",
   "execution_count": null,
   "metadata": {},
   "outputs": [],
   "source": [
    "import requests\n",
    "import time\n",
    "import wget\n",
    "from datetime import datetime\n",
    "from bs4 import BeautifulSoup\n",
    "import numpy as np\n",
    "from selenium import webdriver\n",
    "from selenium.webdriver.support.ui import WebDriverWait\n",
    "from selenium.webdriver.support import expected_conditions as EC\n",
    "from selenium.webdriver.common.by import By\n",
    "from selenium.common.exceptions import TimeoutException\n",
    "\n",
    "from elasticsearch_reader import ElasticsearchReader as esr\n",
    "from elasticsearch_creator import ElasticsearchCreator as esc\n",
    "# Geo Bounding CDMX\n",
    "#-99.373327,19.0426,-98.933874,19.595002\n",
    "np.random.seed(112358)\n",
    "cdmx_bounding_box = {\n",
    "    \"top_left\": {\n",
    "        \"lat\": 19.595002,\n",
    "        \"lon\": -99.373327\n",
    "    },\n",
    "    \"bottom_right\": {\n",
    "        \"lat\": 19.0426,\n",
    "        \"lon\": -98.933874\n",
    "    }\n",
    "}\n",
    "def get_rand_position(bounding_box):\n",
    "    lon = np.random.uniform(low=bounding_box['bottom_right']['lon'], high=bounding_box['top_left']['lon'])\n",
    "    lat = np.random.uniform(low=bounding_box['bottom_right']['lat'], high=bounding_box['top_left']['lat'])\n",
    "    return round(lon, 6), round(lat, 6)\n",
    "\n",
    "def get_products_in_page(page):\n",
    "    list_prod = page.findAll(attrs= {\"vocab\":\"http://schema.org/\",\"class\": \"row\", \"typeof\": \"Product\"})\n",
    "    list_prod = list_prod[0].findAll('div', attrs={'class':'row'})\n",
    "    prods=[]\n",
    "    for i in list_prod:\n",
    "        url_image = i.findAll('img')[0]['src'].replace('ch/C','gr/G')\n",
    "        title = i.findAll('img')[0]['alt']\n",
    "        price = float(i.findAll('h2',attrs={\"property\": \"price\"})[0].text.strip(\"$ \"))\n",
    "        img_path = save_image(url_image, \"img\")\n",
    "        lon, lat = get_rand_position(cdmx_bounding_box)\n",
    "        prods.append({\n",
    "            \"title\":title,\n",
    "            \"url_image\": url_image,\n",
    "            \"price\": price,\n",
    "            \"img_path\":img_path,\n",
    "            \"place\": \"similares\",\n",
    "            \"location\": { \n",
    "                \"lat\": lat,\n",
    "                \"lon\": lon\n",
    "            },\n",
    "            \"created_at\": datetime.now()\n",
    "        })\n",
    "    return prods\n",
    "\n",
    "def get_products_with_delay(brower, max_delay):\n",
    "    for i in range(max_delay):\n",
    "        page = BeautifulSoup(browser.page_source,\"html5lib\")\n",
    "        products = get_products_in_page(page)\n",
    "        if products:\n",
    "            break\n",
    "        time.sleep(1)\n",
    "    return products\n",
    "\n",
    "def save_image(url, path_dir):\n",
    "    url.split('/')[-1]\n",
    "    return wget.download(url,out=path_dir)\n",
    "\n"
   ]
  },
  {
   "cell_type": "code",
   "execution_count": null,
   "metadata": {},
   "outputs": [],
   "source": [
    "%%bash\n",
    "#restart test\n",
    "curl -XDELETE 'localhost:9200/inventory?pretty'\n",
    "curl -XPUT 'localhost:9200/inventory?pretty'\n",
    "rm /home/kira/projects/drugstore/img/*"
   ]
  },
  {
   "cell_type": "code",
   "execution_count": null,
   "metadata": {},
   "outputs": [],
   "source": [
    "catalog_url = 'https://www.farmaciasdesimilares.com/#!/medicamentos'\n",
    "browser = webdriver.Chrome('./chromedriver')\n",
    "browser.get(catalog_url)\n",
    "browser.implicitly_wait(10)"
   ]
  },
  {
   "cell_type": "raw",
   "metadata": {},
   "source": []
  },
  {
   "cell_type": "code",
   "execution_count": null,
   "metadata": {},
   "outputs": [],
   "source": [
    "for i in range(1,2): #82):\n",
    "    products = get_products_with_delay(browser, 5)\n",
    "    print(\"scrappend {} products in page: {}\".format(len(products),i))\n",
    "    browser.find_element_by_xpath('//*[@id=\"contenido\"]/div/div[4]/div[1]/div/div[1]/dir-pagination-controls/ul/li[9]/a').click()\n",
    "    actions_ = esc.get_actions(\"inventory\", \"document\", products)\n",
    "    result_list = esc.bulk_load(actions_)\n",
    "    bulk_result = esc.process_result(result_list)\n",
    "    print(bulk_result)\n",
    "    time.sleep(1)\n"
   ]
  },
  {
   "cell_type": "raw",
   "metadata": {},
   "source": [
    "#browser.find_element_by_xpath('//*[@id=\"contenido\"]/div/div[4]/div[1]/div/div[1]/dir-pagination-controls/ul/li[3]/a').click()\n",
    "time.sleep(2)\n",
    "browser.find_element_by_xpath('//*[@id=\"contenido\"]/div/div[4]/div[1]/div/div[1]/dir-pagination-controls/ul/li[9]/a').click()"
   ]
  },
  {
   "cell_type": "code",
   "execution_count": null,
   "metadata": {},
   "outputs": [],
   "source": [
    "%%bash\n",
    "curl -XGET 'localhost:9200/inventory/document/_count?pretty'"
   ]
  },
  {
   "cell_type": "code",
   "execution_count": null,
   "metadata": {},
   "outputs": [],
   "source": []
  },
  {
   "cell_type": "code",
   "execution_count": null,
   "metadata": {},
   "outputs": [],
   "source": [
    "\n"
   ]
  },
  {
   "cell_type": "code",
   "execution_count": null,
   "metadata": {},
   "outputs": [],
   "source": []
  },
  {
   "cell_type": "code",
   "execution_count": null,
   "metadata": {},
   "outputs": [],
   "source": []
  },
  {
   "cell_type": "code",
   "execution_count": null,
   "metadata": {},
   "outputs": [],
   "source": []
  },
  {
   "cell_type": "code",
   "execution_count": null,
   "metadata": {},
   "outputs": [],
   "source": []
  },
  {
   "cell_type": "code",
   "execution_count": null,
   "metadata": {},
   "outputs": [],
   "source": []
  },
  {
   "cell_type": "code",
   "execution_count": null,
   "metadata": {},
   "outputs": [],
   "source": []
  },
  {
   "cell_type": "code",
   "execution_count": null,
   "metadata": {},
   "outputs": [],
   "source": []
  },
  {
   "cell_type": "code",
   "execution_count": null,
   "metadata": {},
   "outputs": [],
   "source": []
  },
  {
   "cell_type": "code",
   "execution_count": null,
   "metadata": {},
   "outputs": [],
   "source": []
  }
 ],
 "metadata": {
  "kernelspec": {
   "display_name": "Python 3",
   "language": "python",
   "name": "python3"
  },
  "language_info": {
   "codemirror_mode": {
    "name": "ipython",
    "version": 3
   },
   "file_extension": ".py",
   "mimetype": "text/x-python",
   "name": "python",
   "nbconvert_exporter": "python",
   "pygments_lexer": "ipython3",
   "version": "3.6.5"
  }
 },
 "nbformat": 4,
 "nbformat_minor": 2
}
