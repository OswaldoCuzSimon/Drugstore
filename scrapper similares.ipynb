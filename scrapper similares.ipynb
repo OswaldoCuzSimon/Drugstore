{
 "cells": [
  {
   "cell_type": "code",
   "execution_count": 1,
   "metadata": {},
   "outputs": [],
   "source": [
    "import requests\n",
    "import time\n",
    "from bs4 import BeautifulSoup\n",
    "from selenium import webdriver\n",
    "from selenium.webdriver.support.ui import WebDriverWait\n",
    "from selenium.webdriver.support import expected_conditions as EC\n",
    "from selenium.webdriver.common.by import By\n",
    "from selenium.common.exceptions import TimeoutException\n",
    "\n",
    "def get_products_in_page(page):\n",
    "    list_prod = page.findAll(attrs= {\"vocab\":\"http://schema.org/\",\"class\": \"row\", \"typeof\": \"Product\"})\n",
    "    list_prod = list_prod[0].findAll('div', attrs={'class':'row'})\n",
    "    prods=[]\n",
    "    for i in list_prod:\n",
    "        url_image = i.findAll('img')[0]['src'].replace('ch/C','gr/G')\n",
    "        title = i.findAll('img')[0]['alt']\n",
    "        price = float(i.findAll('h2',attrs={\"property\": \"price\"})[0].text.strip(\"$ \"))\n",
    "        prods.append({\"title\":title,\"url_image\": url_image,\"proce\":price})\n",
    "    return prods"
   ]
  },
  {
   "cell_type": "code",
   "execution_count": 2,
   "metadata": {},
   "outputs": [],
   "source": [
    "catalog_url = 'https://www.farmaciasdesimilares.com/#!/medicamentos'\n",
    "browser = webdriver.Chrome('./chromedriver')\n",
    "browser.get(catalog_url)\n",
    "browser.implicitly_wait(10)"
   ]
  },
  {
   "cell_type": "raw",
   "metadata": {},
   "source": [
    "NO_IMAGE = 'https://farmaciasdesimilares.com/ui/productos/ch/noImage_C.jpg'\n"
   ]
  },
  {
   "cell_type": "code",
   "execution_count": 3,
   "metadata": {},
   "outputs": [
    {
     "name": "stdout",
     "output_type": "stream",
     "text": [
      "0\n",
      "ACIDO NALIDIXICO / FENAZOPIRIDINA TABLETAS\n",
      "ACIDO RETINOICO CREMA\n",
      "FENAZOPIRIDINA TABLETAS\n",
      "NAFAZOLINA / FENIRAMINA SOLUCION OFTALMICA\n",
      "FLUCONAZOL CAPSULAS\n",
      "DESOGESTREL / ETINILESTRADIOL TABLETAS\n",
      "FLUNARIZINA TABLETAS\n",
      "QUINFAMIDA / ALBENDAZOL PEDIATRICO SUSPENSION\n",
      "FLUOCINOLONA CREMA\n"
     ]
    },
    {
     "data": {
      "text/plain": [
       "[{'title': 'ACIDO NALIDIXICO / FENAZOPIRIDINA TABLETAS',\n",
       "  'url_image': 'https://farmaciasdesimilares.com/ui/productos/gr/G_1.jpg',\n",
       "  'proce': 49.0},\n",
       " {'title': 'ACIDO RETINOICO CREMA',\n",
       "  'url_image': 'https://farmaciasdesimilares.com/ui/productos/gr/G_10.jpg',\n",
       "  'proce': 36.0},\n",
       " {'title': 'FENAZOPIRIDINA TABLETAS',\n",
       "  'url_image': 'https://farmaciasdesimilares.com/ui/productos/gr/G_100_1.jpg',\n",
       "  'proce': 24.0},\n",
       " {'title': 'NAFAZOLINA / FENIRAMINA SOLUCION OFTALMICA',\n",
       "  'url_image': 'https://farmaciasdesimilares.com/ui/productos/gr/G_101.jpg',\n",
       "  'proce': 15.0},\n",
       " {'title': 'FLUCONAZOL CAPSULAS',\n",
       "  'url_image': 'https://farmaciasdesimilares.com/ui/productos/gr/G_102.jpg',\n",
       "  'proce': 179.0},\n",
       " {'title': 'DESOGESTREL / ETINILESTRADIOL TABLETAS',\n",
       "  'url_image': 'https://farmaciasdesimilares.com/ui/productos/gr/G_1029.jpg',\n",
       "  'proce': 50.0},\n",
       " {'title': 'FLUNARIZINA TABLETAS',\n",
       "  'url_image': 'https://farmaciasdesimilares.com/ui/productos/gr/G_103.jpg',\n",
       "  'proce': 40.0},\n",
       " {'title': 'QUINFAMIDA / ALBENDAZOL PEDIATRICO SUSPENSION',\n",
       "  'url_image': 'https://farmaciasdesimilares.com/ui/productos/gr/G_1031.jpg',\n",
       "  'proce': 30.0},\n",
       " {'title': 'FLUOCINOLONA CREMA',\n",
       "  'url_image': 'https://farmaciasdesimilares.com/ui/productos/gr/G_104.jpg',\n",
       "  'proce': 16.0}]"
      ]
     },
     "execution_count": 3,
     "metadata": {},
     "output_type": "execute_result"
    }
   ],
   "source": [
    "MAX_DELAY = 5\n",
    "for i in range(MAX_DELAY):\n",
    "    page = BeautifulSoup(browser.page_source,\"html5lib\")\n",
    "    products = get_products_in_page(page)\n",
    "    if products:\n",
    "        break\n",
    "    time.sleep(1)\n",
    "    print(i)\n",
    "products"
   ]
  },
  {
   "cell_type": "code",
   "execution_count": null,
   "metadata": {},
   "outputs": [],
   "source": []
  },
  {
   "cell_type": "code",
   "execution_count": null,
   "metadata": {},
   "outputs": [],
   "source": []
  },
  {
   "cell_type": "code",
   "execution_count": null,
   "metadata": {},
   "outputs": [],
   "source": []
  },
  {
   "cell_type": "code",
   "execution_count": null,
   "metadata": {},
   "outputs": [],
   "source": []
  },
  {
   "cell_type": "code",
   "execution_count": null,
   "metadata": {},
   "outputs": [],
   "source": []
  },
  {
   "cell_type": "code",
   "execution_count": null,
   "metadata": {},
   "outputs": [],
   "source": []
  },
  {
   "cell_type": "code",
   "execution_count": null,
   "metadata": {},
   "outputs": [],
   "source": []
  }
 ],
 "metadata": {
  "kernelspec": {
   "display_name": "Python 3",
   "language": "python",
   "name": "python3"
  },
  "language_info": {
   "codemirror_mode": {
    "name": "ipython",
    "version": 3
   },
   "file_extension": ".py",
   "mimetype": "text/x-python",
   "name": "python",
   "nbconvert_exporter": "python",
   "pygments_lexer": "ipython3",
   "version": "3.6.5"
  }
 },
 "nbformat": 4,
 "nbformat_minor": 2
}
