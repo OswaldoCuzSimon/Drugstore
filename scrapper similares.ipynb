{
 "cells": [
  {
   "cell_type": "code",
   "execution_count": 2,
   "metadata": {},
   "outputs": [],
   "source": [
    "import requests\n",
    "import time\n",
    "import wget\n",
    "from bs4 import BeautifulSoup\n",
    "from selenium import webdriver\n",
    "from selenium.webdriver.support.ui import WebDriverWait\n",
    "from selenium.webdriver.support import expected_conditions as EC\n",
    "from selenium.webdriver.common.by import By\n",
    "from selenium.common.exceptions import TimeoutException\n",
    "\n",
    "def get_products_in_page(page):\n",
    "    list_prod = page.findAll(attrs= {\"vocab\":\"http://schema.org/\",\"class\": \"row\", \"typeof\": \"Product\"})\n",
    "    list_prod = list_prod[0].findAll('div', attrs={'class':'row'})\n",
    "    prods=[]\n",
    "    for i in list_prod:\n",
    "        url_image = i.findAll('img')[0]['src'].replace('ch/C','gr/G')\n",
    "        title = i.findAll('img')[0]['alt']\n",
    "        price = float(i.findAll('h2',attrs={\"property\": \"price\"})[0].text.strip(\"$ \"))\n",
    "        prods.append({\"title\":title,\"url_image\": url_image,\"proce\":price,\"img_name\":url_image.split('/')[-1]})\n",
    "    return prods\n",
    "\n",
    "def get_products_with_delay(brower, max_delay):\n",
    "    for i in range(max_delay):\n",
    "        page = BeautifulSoup(browser.page_source,\"html5lib\")\n",
    "        products = get_products_in_page(page)\n",
    "        if products:\n",
    "            break\n",
    "        time.sleep(1)\n",
    "    return products\n",
    "def save_image(path_dir,name)\n",
    "    url.split('/')[-1]\n",
    "    url = 'https://farmaciasdesimilares.com/ui/productos/gr/G_119_1.jpg'\n",
    "    return wget.download(url,out=path_dir)"
   ]
  },
  {
   "cell_type": "code",
   "execution_count": null,
   "metadata": {},
   "outputs": [],
   "source": [
    "catalog_url = 'https://www.farmaciasdesimilares.com/#!/medicamentos'\n",
    "browser = webdriver.Chrome('./chromedriver')\n",
    "browser.get(catalog_url)\n",
    "browser.implicitly_wait(10)"
   ]
  },
  {
   "cell_type": "raw",
   "metadata": {},
   "source": []
  },
  {
   "cell_type": "code",
   "execution_count": null,
   "metadata": {},
   "outputs": [],
   "source": [
    "for i in range(1,10): #82):\n",
    "    products = get_products_with_delay(brower, 5)\n",
    "    print(\"scrappend page: {}\".format(i))\n",
    "    browser.find_element_by_xpath('//*[@id=\"contenido\"]/div/div[4]/div[1]/div/div[1]/dir-pagination-controls/ul/li[9]/a').click()\n",
    "    time.sleep(1)\n"
   ]
  },
  {
   "cell_type": "code",
   "execution_count": null,
   "metadata": {},
   "outputs": [],
   "source": [
    "#browser.find_element_by_xpath('//*[@id=\"contenido\"]/div/div[4]/div[1]/div/div[1]/dir-pagination-controls/ul/li[3]/a').click()\n",
    "time.sleep(2)\n",
    "browser.find_element_by_xpath('//*[@id=\"contenido\"]/div/div[4]/div[1]/div/div[1]/dir-pagination-controls/ul/li[9]/a').click()"
   ]
  },
  {
   "cell_type": "code",
   "execution_count": null,
   "metadata": {},
   "outputs": [],
   "source": [
    "page = BeautifulSoup(browser.page_source,\"html5lib\")\n",
    "products = get_products_in_page(page)"
   ]
  },
  {
   "cell_type": "code",
   "execution_count": null,
   "metadata": {},
   "outputs": [],
   "source": [
    "products"
   ]
  },
  {
   "cell_type": "code",
   "execution_count": null,
   "metadata": {},
   "outputs": [],
   "source": [
    "def get_actions_id_auto_increment(data_list, index, doctype):\n",
    "    return [{\n",
    "        \"_index\": index,\n",
    "        \"_id\": _id,\n",
    "        \"_type\": doctype,\n",
    "        \"_source\": i\n",
    "    } for i in data_list]"
   ]
  },
  {
   "cell_type": "code",
   "execution_count": null,
   "metadata": {},
   "outputs": [],
   "source": [
    "get_actions_id_auto_increment(products, 'drugstore', 'document')"
   ]
  },
  {
   "cell_type": "code",
   "execution_count": null,
   "metadata": {},
   "outputs": [],
   "source": [
    "def generate_ids(df):\n",
    "    def increase():\n",
    "        increase.i += 1\n",
    "        return increase.i\n",
    "\n",
    "    increase.i = DataQuality().get_last_id()\n",
    "    df['id'] = df['id'].apply(lambda _: increase())\n",
    "    return df"
   ]
  },
  {
   "cell_type": "code",
   "execution_count": null,
   "metadata": {},
   "outputs": [],
   "source": [
    "\n"
   ]
  },
  {
   "cell_type": "code",
   "execution_count": 4,
   "metadata": {},
   "outputs": [],
   "source": []
  },
  {
   "cell_type": "code",
   "execution_count": 5,
   "metadata": {},
   "outputs": [
    {
     "data": {
      "text/plain": [
       "'img//G_119_1.jpg'"
      ]
     },
     "execution_count": 5,
     "metadata": {},
     "output_type": "execute_result"
    }
   ],
   "source": []
  },
  {
   "cell_type": "code",
   "execution_count": null,
   "metadata": {},
   "outputs": [],
   "source": []
  }
 ],
 "metadata": {
  "kernelspec": {
   "display_name": "Python 3",
   "language": "python",
   "name": "python3"
  },
  "language_info": {
   "codemirror_mode": {
    "name": "ipython",
    "version": 3
   },
   "file_extension": ".py",
   "mimetype": "text/x-python",
   "name": "python",
   "nbconvert_exporter": "python",
   "pygments_lexer": "ipython3",
   "version": "3.6.5"
  }
 },
 "nbformat": 4,
 "nbformat_minor": 2
}
